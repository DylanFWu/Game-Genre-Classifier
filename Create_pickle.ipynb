{
 "cells": [
  {
   "cell_type": "code",
   "execution_count": 1,
   "id": "bb40626f-dfeb-4354-9611-d49953162047",
   "metadata": {},
   "outputs": [],
   "source": [
    "import seaborn as sns\n",
    "import ast"
   ]
  },
  {
   "cell_type": "code",
   "execution_count": 2,
   "id": "e8d15023-668f-4677-b706-bee76592aa71",
   "metadata": {},
   "outputs": [],
   "source": [
    "from sklearn.feature_extraction.text import TfidfVectorizer\n",
    "from sklearn.model_selection import train_test_split"
   ]
  },
  {
   "cell_type": "code",
   "execution_count": 3,
   "id": "f23515fb-d6a7-43ba-ac8f-bc28d2a91b96",
   "metadata": {},
   "outputs": [],
   "source": [
    "import matplotlib.pyplot as plt "
   ]
  },
  {
   "cell_type": "code",
   "execution_count": 4,
   "id": "ccf60ce6-fe57-41de-adc3-5c94ec914ef7",
   "metadata": {},
   "outputs": [],
   "source": [
    "import pandas as pd\n",
    "import numpy as np\n",
    "import nltk\n",
    "import re\n",
    "import json"
   ]
  },
  {
   "cell_type": "code",
   "execution_count": 5,
   "id": "9b790eb4-c445-4b37-9a51-aa68ac5f1004",
   "metadata": {},
   "outputs": [],
   "source": [
    "df = pd.read_csv('raw.csv')"
   ]
  },
  {
   "cell_type": "code",
   "execution_count": 6,
   "id": "fa6f450e-8e96-4777-a21c-3fbf6bb3a4f9",
   "metadata": {},
   "outputs": [
    {
     "data": {
      "text/html": [
       "<div>\n",
       "<style scoped>\n",
       "    .dataframe tbody tr th:only-of-type {\n",
       "        vertical-align: middle;\n",
       "    }\n",
       "\n",
       "    .dataframe tbody tr th {\n",
       "        vertical-align: top;\n",
       "    }\n",
       "\n",
       "    .dataframe thead th {\n",
       "        text-align: right;\n",
       "    }\n",
       "</style>\n",
       "<table border=\"1\" class=\"dataframe\">\n",
       "  <thead>\n",
       "    <tr style=\"text-align: right;\">\n",
       "      <th></th>\n",
       "      <th>name</th>\n",
       "      <th>game_description</th>\n",
       "      <th>genre</th>\n",
       "      <th>list_genre</th>\n",
       "    </tr>\n",
       "  </thead>\n",
       "  <tbody>\n",
       "    <tr>\n",
       "      <th>0</th>\n",
       "      <td>DOOM</td>\n",
       "      <td>About This Game Developed by id software, the...</td>\n",
       "      <td>Action</td>\n",
       "      <td>['Action']</td>\n",
       "    </tr>\n",
       "    <tr>\n",
       "      <th>1</th>\n",
       "      <td>PLAYERUNKNOWN'S BATTLEGROUNDS</td>\n",
       "      <td>About This Game  PLAYERUNKNOWN'S BATTLEGROUND...</td>\n",
       "      <td>Action,Adventure,Massively Multiplayer</td>\n",
       "      <td>['Action', 'Adventure', 'Massively Multiplayer']</td>\n",
       "    </tr>\n",
       "    <tr>\n",
       "      <th>2</th>\n",
       "      <td>BATTLETECH</td>\n",
       "      <td>About This Game  From original BATTLETECH/Mec...</td>\n",
       "      <td>Action,Adventure,Strategy</td>\n",
       "      <td>['Action', 'Adventure', 'Strategy']</td>\n",
       "    </tr>\n",
       "    <tr>\n",
       "      <th>3</th>\n",
       "      <td>DayZ</td>\n",
       "      <td>About This Game The post-soviet country of Ch...</td>\n",
       "      <td>Action,Adventure,Massively Multiplayer</td>\n",
       "      <td>['Action', 'Adventure', 'Massively Multiplayer']</td>\n",
       "    </tr>\n",
       "    <tr>\n",
       "      <th>4</th>\n",
       "      <td>EVE Online</td>\n",
       "      <td>About This Game</td>\n",
       "      <td>Action,Free to Play,Massively Multiplayer,RPG,...</td>\n",
       "      <td>['Action', 'Free to Play', 'Massively Multipla...</td>\n",
       "    </tr>\n",
       "    <tr>\n",
       "      <th>...</th>\n",
       "      <td>...</td>\n",
       "      <td>...</td>\n",
       "      <td>...</td>\n",
       "      <td>...</td>\n",
       "    </tr>\n",
       "    <tr>\n",
       "      <th>40828</th>\n",
       "      <td>Rocksmith® 2014 Edition – Remastered – Sabaton...</td>\n",
       "      <td>About This Content Play \"Ghost Division\" by S...</td>\n",
       "      <td>Casual,Simulation</td>\n",
       "      <td>['Casual', 'Simulation']</td>\n",
       "    </tr>\n",
       "    <tr>\n",
       "      <th>40829</th>\n",
       "      <td>Rocksmith® 2014 Edition – Remastered – Stone T...</td>\n",
       "      <td>About This Content Play \"Trippin’ on a Hole i...</td>\n",
       "      <td>Casual,Simulation</td>\n",
       "      <td>['Casual', 'Simulation']</td>\n",
       "    </tr>\n",
       "    <tr>\n",
       "      <th>40830</th>\n",
       "      <td>Fantasy Grounds - Quests of Doom 4: A Midnight...</td>\n",
       "      <td>About This Content  Quests of Doom 4: A Midni...</td>\n",
       "      <td>Indie,RPG,Strategy</td>\n",
       "      <td>['Indie', 'RPG', 'Strategy']</td>\n",
       "    </tr>\n",
       "    <tr>\n",
       "      <th>40831</th>\n",
       "      <td>Mega Man X5 Sound Collection</td>\n",
       "      <td>About This Content Get equipped with the stun...</td>\n",
       "      <td>Action</td>\n",
       "      <td>['Action']</td>\n",
       "    </tr>\n",
       "    <tr>\n",
       "      <th>40832</th>\n",
       "      <td>Stories In Stone</td>\n",
       "      <td>About This Game  An RPG about a tribe explori...</td>\n",
       "      <td>Adventure,RPG</td>\n",
       "      <td>['Adventure', 'RPG']</td>\n",
       "    </tr>\n",
       "  </tbody>\n",
       "</table>\n",
       "<p>40833 rows × 4 columns</p>\n",
       "</div>"
      ],
      "text/plain": [
       "                                                    name  \\\n",
       "0                                                   DOOM   \n",
       "1                          PLAYERUNKNOWN'S BATTLEGROUNDS   \n",
       "2                                             BATTLETECH   \n",
       "3                                                   DayZ   \n",
       "4                                             EVE Online   \n",
       "...                                                  ...   \n",
       "40828  Rocksmith® 2014 Edition – Remastered – Sabaton...   \n",
       "40829  Rocksmith® 2014 Edition – Remastered – Stone T...   \n",
       "40830  Fantasy Grounds - Quests of Doom 4: A Midnight...   \n",
       "40831                       Mega Man X5 Sound Collection   \n",
       "40832                                   Stories In Stone   \n",
       "\n",
       "                                        game_description  \\\n",
       "0       About This Game Developed by id software, the...   \n",
       "1       About This Game  PLAYERUNKNOWN'S BATTLEGROUND...   \n",
       "2       About This Game  From original BATTLETECH/Mec...   \n",
       "3       About This Game The post-soviet country of Ch...   \n",
       "4                                      About This Game     \n",
       "...                                                  ...   \n",
       "40828   About This Content Play \"Ghost Division\" by S...   \n",
       "40829   About This Content Play \"Trippin’ on a Hole i...   \n",
       "40830   About This Content  Quests of Doom 4: A Midni...   \n",
       "40831   About This Content Get equipped with the stun...   \n",
       "40832   About This Game  An RPG about a tribe explori...   \n",
       "\n",
       "                                                   genre  \\\n",
       "0                                                 Action   \n",
       "1                 Action,Adventure,Massively Multiplayer   \n",
       "2                              Action,Adventure,Strategy   \n",
       "3                 Action,Adventure,Massively Multiplayer   \n",
       "4      Action,Free to Play,Massively Multiplayer,RPG,...   \n",
       "...                                                  ...   \n",
       "40828                                  Casual,Simulation   \n",
       "40829                                  Casual,Simulation   \n",
       "40830                                 Indie,RPG,Strategy   \n",
       "40831                                             Action   \n",
       "40832                                      Adventure,RPG   \n",
       "\n",
       "                                              list_genre  \n",
       "0                                             ['Action']  \n",
       "1       ['Action', 'Adventure', 'Massively Multiplayer']  \n",
       "2                    ['Action', 'Adventure', 'Strategy']  \n",
       "3       ['Action', 'Adventure', 'Massively Multiplayer']  \n",
       "4      ['Action', 'Free to Play', 'Massively Multipla...  \n",
       "...                                                  ...  \n",
       "40828                           ['Casual', 'Simulation']  \n",
       "40829                           ['Casual', 'Simulation']  \n",
       "40830                       ['Indie', 'RPG', 'Strategy']  \n",
       "40831                                         ['Action']  \n",
       "40832                               ['Adventure', 'RPG']  \n",
       "\n",
       "[40833 rows x 4 columns]"
      ]
     },
     "execution_count": 6,
     "metadata": {},
     "output_type": "execute_result"
    }
   ],
   "source": [
    "df"
   ]
  },
  {
   "cell_type": "code",
   "execution_count": 7,
   "id": "a38f766c-1f4e-483f-a847-379c6e552828",
   "metadata": {},
   "outputs": [],
   "source": [
    "df.dropna(inplace=True)"
   ]
  },
  {
   "cell_type": "code",
   "execution_count": 8,
   "id": "6fda80ca-04d2-4003-b72d-1490e5ad0401",
   "metadata": {},
   "outputs": [],
   "source": [
    "all_genres = df['list_genre'].apply(ast.literal_eval).apply(lambda x: pd.Series(x)).stack().value_counts()"
   ]
  },
  {
   "cell_type": "code",
   "execution_count": 9,
   "id": "a388860e-f684-4dae-a802-ee8c81425aa3",
   "metadata": {},
   "outputs": [
    {
     "data": {
      "text/plain": [
       "Indie                    22832\n",
       "Action                   15224\n",
       "Casual                   11989\n",
       "Adventure                11848\n",
       "Simulation                8703\n",
       "Strategy                  7964\n",
       "RPG                       6950\n",
       "Early Access              2818\n",
       "Free to Play              2613\n",
       "Sports                    1724\n",
       "Racing                    1383\n",
       "Massively Multiplayer     1275\n",
       "Design & Illustration      622\n",
       "Utilities                  454\n",
       "Web Publishing             420\n",
       "Animation & Modeling       241\n",
       "Education                  168\n",
       "Video Production           150\n",
       "Audio Production           125\n",
       "Software Training          110\n",
       "Photo Editing               67\n",
       "Game Development            65\n",
       "Accounting                   8\n",
       "Valve                        4\n",
       "HTC                          1\n",
       "Movie                        1\n",
       "dtype: int64"
      ]
     },
     "execution_count": 9,
     "metadata": {},
     "output_type": "execute_result"
    }
   ],
   "source": [
    "all_genres"
   ]
  },
  {
   "cell_type": "code",
   "execution_count": 10,
   "id": "255b1a5e-9294-4eec-bfa2-8ff54f76561e",
   "metadata": {},
   "outputs": [],
   "source": [
    "df_val_counts = pd.DataFrame(all_genres)\n",
    "df_value_counts_reset = df_val_counts.reset_index()\n",
    "df_value_counts_reset.columns = ['unique_values', 'counts'] # change column names"
   ]
  },
  {
   "cell_type": "code",
   "execution_count": 11,
   "id": "0318473c-09a5-4175-ac24-a13441b51dda",
   "metadata": {},
   "outputs": [
    {
     "data": {
      "text/html": [
       "<div>\n",
       "<style scoped>\n",
       "    .dataframe tbody tr th:only-of-type {\n",
       "        vertical-align: middle;\n",
       "    }\n",
       "\n",
       "    .dataframe tbody tr th {\n",
       "        vertical-align: top;\n",
       "    }\n",
       "\n",
       "    .dataframe thead th {\n",
       "        text-align: right;\n",
       "    }\n",
       "</style>\n",
       "<table border=\"1\" class=\"dataframe\">\n",
       "  <thead>\n",
       "    <tr style=\"text-align: right;\">\n",
       "      <th></th>\n",
       "      <th>unique_values</th>\n",
       "      <th>counts</th>\n",
       "    </tr>\n",
       "  </thead>\n",
       "  <tbody>\n",
       "    <tr>\n",
       "      <th>0</th>\n",
       "      <td>Indie</td>\n",
       "      <td>22832</td>\n",
       "    </tr>\n",
       "    <tr>\n",
       "      <th>1</th>\n",
       "      <td>Action</td>\n",
       "      <td>15224</td>\n",
       "    </tr>\n",
       "    <tr>\n",
       "      <th>2</th>\n",
       "      <td>Casual</td>\n",
       "      <td>11989</td>\n",
       "    </tr>\n",
       "    <tr>\n",
       "      <th>3</th>\n",
       "      <td>Adventure</td>\n",
       "      <td>11848</td>\n",
       "    </tr>\n",
       "    <tr>\n",
       "      <th>4</th>\n",
       "      <td>Simulation</td>\n",
       "      <td>8703</td>\n",
       "    </tr>\n",
       "    <tr>\n",
       "      <th>5</th>\n",
       "      <td>Strategy</td>\n",
       "      <td>7964</td>\n",
       "    </tr>\n",
       "    <tr>\n",
       "      <th>6</th>\n",
       "      <td>RPG</td>\n",
       "      <td>6950</td>\n",
       "    </tr>\n",
       "    <tr>\n",
       "      <th>7</th>\n",
       "      <td>Early Access</td>\n",
       "      <td>2818</td>\n",
       "    </tr>\n",
       "    <tr>\n",
       "      <th>8</th>\n",
       "      <td>Free to Play</td>\n",
       "      <td>2613</td>\n",
       "    </tr>\n",
       "    <tr>\n",
       "      <th>9</th>\n",
       "      <td>Sports</td>\n",
       "      <td>1724</td>\n",
       "    </tr>\n",
       "    <tr>\n",
       "      <th>10</th>\n",
       "      <td>Racing</td>\n",
       "      <td>1383</td>\n",
       "    </tr>\n",
       "    <tr>\n",
       "      <th>11</th>\n",
       "      <td>Massively Multiplayer</td>\n",
       "      <td>1275</td>\n",
       "    </tr>\n",
       "    <tr>\n",
       "      <th>12</th>\n",
       "      <td>Design &amp; Illustration</td>\n",
       "      <td>622</td>\n",
       "    </tr>\n",
       "    <tr>\n",
       "      <th>13</th>\n",
       "      <td>Utilities</td>\n",
       "      <td>454</td>\n",
       "    </tr>\n",
       "    <tr>\n",
       "      <th>14</th>\n",
       "      <td>Web Publishing</td>\n",
       "      <td>420</td>\n",
       "    </tr>\n",
       "    <tr>\n",
       "      <th>15</th>\n",
       "      <td>Animation &amp; Modeling</td>\n",
       "      <td>241</td>\n",
       "    </tr>\n",
       "    <tr>\n",
       "      <th>16</th>\n",
       "      <td>Education</td>\n",
       "      <td>168</td>\n",
       "    </tr>\n",
       "    <tr>\n",
       "      <th>17</th>\n",
       "      <td>Video Production</td>\n",
       "      <td>150</td>\n",
       "    </tr>\n",
       "    <tr>\n",
       "      <th>18</th>\n",
       "      <td>Audio Production</td>\n",
       "      <td>125</td>\n",
       "    </tr>\n",
       "    <tr>\n",
       "      <th>19</th>\n",
       "      <td>Software Training</td>\n",
       "      <td>110</td>\n",
       "    </tr>\n",
       "    <tr>\n",
       "      <th>20</th>\n",
       "      <td>Photo Editing</td>\n",
       "      <td>67</td>\n",
       "    </tr>\n",
       "    <tr>\n",
       "      <th>21</th>\n",
       "      <td>Game Development</td>\n",
       "      <td>65</td>\n",
       "    </tr>\n",
       "    <tr>\n",
       "      <th>22</th>\n",
       "      <td>Accounting</td>\n",
       "      <td>8</td>\n",
       "    </tr>\n",
       "    <tr>\n",
       "      <th>23</th>\n",
       "      <td>Valve</td>\n",
       "      <td>4</td>\n",
       "    </tr>\n",
       "    <tr>\n",
       "      <th>24</th>\n",
       "      <td>HTC</td>\n",
       "      <td>1</td>\n",
       "    </tr>\n",
       "    <tr>\n",
       "      <th>25</th>\n",
       "      <td>Movie</td>\n",
       "      <td>1</td>\n",
       "    </tr>\n",
       "  </tbody>\n",
       "</table>\n",
       "</div>"
      ],
      "text/plain": [
       "            unique_values  counts\n",
       "0                   Indie   22832\n",
       "1                  Action   15224\n",
       "2                  Casual   11989\n",
       "3               Adventure   11848\n",
       "4              Simulation    8703\n",
       "5                Strategy    7964\n",
       "6                     RPG    6950\n",
       "7            Early Access    2818\n",
       "8            Free to Play    2613\n",
       "9                  Sports    1724\n",
       "10                 Racing    1383\n",
       "11  Massively Multiplayer    1275\n",
       "12  Design & Illustration     622\n",
       "13              Utilities     454\n",
       "14         Web Publishing     420\n",
       "15   Animation & Modeling     241\n",
       "16              Education     168\n",
       "17       Video Production     150\n",
       "18       Audio Production     125\n",
       "19      Software Training     110\n",
       "20          Photo Editing      67\n",
       "21       Game Development      65\n",
       "22             Accounting       8\n",
       "23                  Valve       4\n",
       "24                    HTC       1\n",
       "25                  Movie       1"
      ]
     },
     "execution_count": 11,
     "metadata": {},
     "output_type": "execute_result"
    }
   ],
   "source": [
    "df_value_counts_reset"
   ]
  },
  {
   "cell_type": "code",
   "execution_count": 12,
   "id": "aafff2dd-f3d2-4ac3-9656-5bf1c443f48e",
   "metadata": {},
   "outputs": [],
   "source": [
    "bad = ['Valve','HTC','Movie']"
   ]
  },
  {
   "cell_type": "code",
   "execution_count": 13,
   "id": "1b9329a2-c358-4577-95f8-e538758e17e4",
   "metadata": {},
   "outputs": [
    {
     "data": {
      "image/png": "[encoded data removed]",
      "text/plain": [
       "<Figure size 864x1080 with 1 Axes>"
      ]
     },
     "metadata": {
      "needs_background": "light"
     },
     "output_type": "display_data"
    }
   ],
   "source": [
    "g = df_value_counts_reset.nlargest(columns=\"counts\",n=25) \n",
    "plt.figure(figsize=(12,15)) \n",
    "ax = sns.barplot(data=g, x= \"counts\", y = \"unique_values\") \n",
    "ax.set(ylabel = 'Count') \n",
    "plt.show()"
   ]
  },
  {
   "cell_type": "code",
   "execution_count": 14,
   "id": "846f23e0-396a-4cb0-abf6-654bd151dd35",
   "metadata": {},
   "outputs": [
    {
     "data": {
      "image/png": "[encoded data removed]",
      "text/plain": [
       "<Figure size 864x1080 with 1 Axes>"
      ]
     },
     "metadata": {
      "needs_background": "light"
     },
     "output_type": "display_data"
    }
   ],
   "source": [
    "g = df_value_counts_reset.nlargest(columns=\"counts\",n=10) \n",
    "plt.figure(figsize=(12,15)) \n",
    "ax = sns.barplot(data=g, x= \"counts\", y = \"unique_values\") \n",
    "ax.set(ylabel = 'Count') \n",
    "plt.show()"
   ]
  },
  {
   "cell_type": "code",
   "execution_count": 15,
   "id": "4c8870f1-2026-4620-811a-01e97e12be7a",
   "metadata": {},
   "outputs": [],
   "source": [
    "df['actual_list_genre'] = df['list_genre'].apply(ast.literal_eval)"
   ]
  },
  {
   "cell_type": "code",
   "execution_count": 16,
   "id": "4388cd83-0cca-416f-947b-4a2ce9a9b401",
   "metadata": {},
   "outputs": [],
   "source": [
    "\n",
    "# function for text cleaning \n",
    "def clean_text(text):\n",
    "    # remove backslash-apostrophe \n",
    "    text = re.sub(\"\\'\", \"\", text) \n",
    "    # remove everything except letters\n",
    "    text = re.sub(\"[^a-zA-Z]\",\" \",text) \n",
    "    # remove whitespaces \n",
    "    text = ' '.join(text.split()) \n",
    "    # convert text to lowercase \n",
    "    text = text.lower() \n",
    "    \n",
    "    return text"
   ]
  },
  {
   "cell_type": "code",
   "execution_count": 17,
   "id": "a8da5472-4421-4bf4-bdc7-21b3e3ec295a",
   "metadata": {},
   "outputs": [],
   "source": [
    "df['clean_description']=df['game_description'].apply(lambda x: clean_text(x))"
   ]
  },
  {
   "cell_type": "code",
   "execution_count": 18,
   "id": "79fced8f-cfd4-4985-938c-4c3c8fcc7f1b",
   "metadata": {},
   "outputs": [],
   "source": [
    "\n",
    "def freq_words(x, terms = 30): \n",
    "  all_words = ' '.join([text for text in x]) \n",
    "  all_words = all_words.split() \n",
    "  fdist = nltk.FreqDist(all_words) \n",
    "  words_df = pd.DataFrame({'word':list(fdist.keys()), 'count':list(fdist.values())}) \n",
    "  \n",
    "  # selecting top 20 most frequent words \n",
    "  d = words_df.nlargest(columns=\"count\", n = terms) \n",
    "  \n",
    "  # visualize words and frequencies\n",
    "  plt.figure(figsize=(12,15)) \n",
    "  ax = sns.barplot(data=d, x= \"count\", y = \"word\") \n",
    "  ax.set(ylabel = 'Word') \n",
    "  plt.show()\n",
    "  "
   ]
  },
  {
   "cell_type": "code",
   "execution_count": 19,
   "id": "837776f8-41e6-4d7a-8494-4d5b011087b9",
   "metadata": {},
   "outputs": [
    {
     "data": {
      "image/png": "[encoded data removed]",
      "text/plain": [
       "<Figure size 864x1080 with 1 Axes>"
      ]
     },
     "metadata": {
      "needs_background": "light"
     },
     "output_type": "display_data"
    }
   ],
   "source": [
    "# print 100 most frequent words \n",
    "freq_words(df['clean_description'], 100)"
   ]
  },
  {
   "cell_type": "code",
   "execution_count": 20,
   "id": "9c3991ae-db71-493c-abee-25811689906e",
   "metadata": {},
   "outputs": [],
   "source": [
    "from nltk.corpus import stopwords\n",
    "stop_words = set(stopwords.words('english'))\n",
    "stop_words.update(['game','content','play','developed'])\n",
    "# function to remove stopwords\n",
    "def remove_stopwords(text):\n",
    "    no_stopword_text = [w for w in text.split() if not w in stop_words]\n",
    "    return ' '.join(no_stopword_text)\n"
   ]
  },
  {
   "cell_type": "code",
   "execution_count": 21,
   "id": "dd738eb1-f89d-46cf-bff5-3cb7fc6961e5",
   "metadata": {},
   "outputs": [],
   "source": [
    "df['clean_description'] = df['clean_description'].apply(lambda x: remove_stopwords(x))"
   ]
  },
  {
   "cell_type": "code",
   "execution_count": 22,
   "id": "461d4c6b-6b7e-4975-9527-8d33b648e568",
   "metadata": {},
   "outputs": [
    {
     "data": {
      "image/png": "[encoded data removed]",
      "text/plain": [
       "<Figure size 864x1080 with 1 Axes>"
      ]
     },
     "metadata": {
      "needs_background": "light"
     },
     "output_type": "display_data"
    }
   ],
   "source": [
    "freq_words(df['clean_description'], 100)"
   ]
  },
  {
   "cell_type": "code",
   "execution_count": 23,
   "id": "af63f2a0-159d-44f0-8d1a-19e036696557",
   "metadata": {},
   "outputs": [
    {
     "data": {
      "text/html": [
       "<div>\n",
       "<style scoped>\n",
       "    .dataframe tbody tr th:only-of-type {\n",
       "        vertical-align: middle;\n",
       "    }\n",
       "\n",
       "    .dataframe tbody tr th {\n",
       "        vertical-align: top;\n",
       "    }\n",
       "\n",
       "    .dataframe thead th {\n",
       "        text-align: right;\n",
       "    }\n",
       "</style>\n",
       "<table border=\"1\" class=\"dataframe\">\n",
       "  <thead>\n",
       "    <tr style=\"text-align: right;\">\n",
       "      <th></th>\n",
       "      <th>name</th>\n",
       "      <th>game_description</th>\n",
       "      <th>genre</th>\n",
       "      <th>list_genre</th>\n",
       "      <th>actual_list_genre</th>\n",
       "      <th>clean_description</th>\n",
       "    </tr>\n",
       "  </thead>\n",
       "  <tbody>\n",
       "    <tr>\n",
       "      <th>0</th>\n",
       "      <td>DOOM</td>\n",
       "      <td>About This Game Developed by id software, the...</td>\n",
       "      <td>Action</td>\n",
       "      <td>['Action']</td>\n",
       "      <td>[Action]</td>\n",
       "      <td>id software studio pioneered first person shoo...</td>\n",
       "    </tr>\n",
       "    <tr>\n",
       "      <th>1</th>\n",
       "      <td>PLAYERUNKNOWN'S BATTLEGROUNDS</td>\n",
       "      <td>About This Game  PLAYERUNKNOWN'S BATTLEGROUND...</td>\n",
       "      <td>Action,Adventure,Massively Multiplayer</td>\n",
       "      <td>['Action', 'Adventure', 'Massively Multiplayer']</td>\n",
       "      <td>[Action, Adventure, Massively Multiplayer]</td>\n",
       "      <td>playerunknowns battlegrounds battle royale sho...</td>\n",
       "    </tr>\n",
       "    <tr>\n",
       "      <th>2</th>\n",
       "      <td>BATTLETECH</td>\n",
       "      <td>About This Game  From original BATTLETECH/Mec...</td>\n",
       "      <td>Action,Adventure,Strategy</td>\n",
       "      <td>['Action', 'Adventure', 'Strategy']</td>\n",
       "      <td>[Action, Adventure, Strategy]</td>\n",
       "      <td>original battletech mechwarrior creator jordan...</td>\n",
       "    </tr>\n",
       "    <tr>\n",
       "      <th>3</th>\n",
       "      <td>DayZ</td>\n",
       "      <td>About This Game The post-soviet country of Ch...</td>\n",
       "      <td>Action,Adventure,Massively Multiplayer</td>\n",
       "      <td>['Action', 'Adventure', 'Massively Multiplayer']</td>\n",
       "      <td>[Action, Adventure, Massively Multiplayer]</td>\n",
       "      <td>post soviet country chernarus struck unknown v...</td>\n",
       "    </tr>\n",
       "    <tr>\n",
       "      <th>4</th>\n",
       "      <td>EVE Online</td>\n",
       "      <td>About This Game</td>\n",
       "      <td>Action,Free to Play,Massively Multiplayer,RPG,...</td>\n",
       "      <td>['Action', 'Free to Play', 'Massively Multipla...</td>\n",
       "      <td>[Action, Free to Play, Massively Multiplayer, ...</td>\n",
       "      <td></td>\n",
       "    </tr>\n",
       "  </tbody>\n",
       "</table>\n",
       "</div>"
      ],
      "text/plain": [
       "                            name  \\\n",
       "0                           DOOM   \n",
       "1  PLAYERUNKNOWN'S BATTLEGROUNDS   \n",
       "2                     BATTLETECH   \n",
       "3                           DayZ   \n",
       "4                     EVE Online   \n",
       "\n",
       "                                    game_description  \\\n",
       "0   About This Game Developed by id software, the...   \n",
       "1   About This Game  PLAYERUNKNOWN'S BATTLEGROUND...   \n",
       "2   About This Game  From original BATTLETECH/Mec...   \n",
       "3   About This Game The post-soviet country of Ch...   \n",
       "4                                  About This Game     \n",
       "\n",
       "                                               genre  \\\n",
       "0                                             Action   \n",
       "1             Action,Adventure,Massively Multiplayer   \n",
       "2                          Action,Adventure,Strategy   \n",
       "3             Action,Adventure,Massively Multiplayer   \n",
       "4  Action,Free to Play,Massively Multiplayer,RPG,...   \n",
       "\n",
       "                                          list_genre  \\\n",
       "0                                         ['Action']   \n",
       "1   ['Action', 'Adventure', 'Massively Multiplayer']   \n",
       "2                ['Action', 'Adventure', 'Strategy']   \n",
       "3   ['Action', 'Adventure', 'Massively Multiplayer']   \n",
       "4  ['Action', 'Free to Play', 'Massively Multipla...   \n",
       "\n",
       "                                   actual_list_genre  \\\n",
       "0                                           [Action]   \n",
       "1         [Action, Adventure, Massively Multiplayer]   \n",
       "2                      [Action, Adventure, Strategy]   \n",
       "3         [Action, Adventure, Massively Multiplayer]   \n",
       "4  [Action, Free to Play, Massively Multiplayer, ...   \n",
       "\n",
       "                                   clean_description  \n",
       "0  id software studio pioneered first person shoo...  \n",
       "1  playerunknowns battlegrounds battle royale sho...  \n",
       "2  original battletech mechwarrior creator jordan...  \n",
       "3  post soviet country chernarus struck unknown v...  \n",
       "4                                                     "
      ]
     },
     "execution_count": 23,
     "metadata": {},
     "output_type": "execute_result"
    }
   ],
   "source": [
    "df.head()"
   ]
  },
  {
   "cell_type": "code",
   "execution_count": 24,
   "id": "b2824ec6-76d3-47ab-99b1-90570eec71c4",
   "metadata": {},
   "outputs": [],
   "source": [
    "from sklearn.preprocessing import MultiLabelBinarizer\n",
    "\n",
    "multilabel_binarizer = MultiLabelBinarizer()\n",
    "multilabel_binarizer.fit(df['actual_list_genre'])\n",
    "\n",
    "# transform target variable\n",
    "y = multilabel_binarizer.transform(df['actual_list_genre'])"
   ]
  },
  {
   "cell_type": "code",
   "execution_count": 25,
   "id": "664ca73b-3e8c-473e-8724-e6369177b40b",
   "metadata": {},
   "outputs": [],
   "source": [
    "tfidf_vectorizer = TfidfVectorizer(max_df=0.8, max_features=10000)"
   ]
  },
  {
   "cell_type": "code",
   "execution_count": 26,
   "id": "4904a337-0259-4f7f-ad95-413f7d3cd1c3",
   "metadata": {},
   "outputs": [],
   "source": [
    "# split dataset into training and validation set\n",
    "xtrain, xval, ytrain, yval = train_test_split(df['clean_description'], y, test_size=0.2, random_state=42)"
   ]
  },
  {
   "cell_type": "code",
   "execution_count": 27,
   "id": "c96a9a69-e09c-4f7e-8314-e3085c57b7f2",
   "metadata": {},
   "outputs": [],
   "source": [
    "# create TF-IDF features\n",
    "xtrain_tfidf = tfidf_vectorizer.fit_transform(xtrain)\n",
    "xval_tfidf = tfidf_vectorizer.transform(xval)"
   ]
  },
  {
   "cell_type": "code",
   "execution_count": 28,
   "id": "f092d6ed-b685-472b-af00-758bbc98e570",
   "metadata": {},
   "outputs": [],
   "source": [
    "from sklearn.linear_model import LogisticRegression\n",
    "\n",
    "# Binary Relevance\n",
    "from sklearn.multiclass import OneVsRestClassifier\n",
    "\n",
    "# Performance metric\n",
    "from sklearn.metrics import f1_score"
   ]
  },
  {
   "cell_type": "code",
   "execution_count": 29,
   "id": "0637349b-0eb4-4e68-b8ca-f9cc2b22ecdb",
   "metadata": {},
   "outputs": [],
   "source": [
    "lr = LogisticRegression()\n",
    "clf = OneVsRestClassifier(lr)"
   ]
  },
  {
   "cell_type": "code",
   "execution_count": 30,
   "id": "02a31ee2-d63b-4c1f-983c-a79fd2bcc0d0",
   "metadata": {},
   "outputs": [
    {
     "name": "stderr",
     "output_type": "stream",
     "text": [
      "C:\\Programming\\Anaconda\\lib\\site-packages\\sklearn\\multiclass.py:80: UserWarning: Label not 14 is present in all training examples.\n",
      "  warnings.warn(\"Label %s is present in all training examples.\" %\n"
     ]
    },
    {
     "data": {
      "text/plain": [
       "OneVsRestClassifier(estimator=LogisticRegression())"
      ]
     },
     "execution_count": 30,
     "metadata": {},
     "output_type": "execute_result"
    }
   ],
   "source": [
    "# fit model on train data\n",
    "clf.fit(xtrain_tfidf, ytrain)"
   ]
  },
  {
   "cell_type": "code",
   "execution_count": 31,
   "id": "8cfe50aa-992e-4d91-b8a2-ca0706d4da08",
   "metadata": {},
   "outputs": [],
   "source": [
    "# make predictions for validation set\n",
    "y_pred = clf.predict(xval_tfidf)"
   ]
  },
  {
   "cell_type": "code",
   "execution_count": 32,
   "id": "79711f23-d416-4450-86f7-6aba069c07a3",
   "metadata": {},
   "outputs": [
    {
     "data": {
      "text/plain": [
       "array([0, 0, 1, 0, 0, 0, 0, 0, 0, 0, 0, 0, 0, 0, 0, 0, 0, 0, 0, 0, 0, 0,\n",
       "       0, 0, 0, 0])"
      ]
     },
     "execution_count": 32,
     "metadata": {},
     "output_type": "execute_result"
    }
   ],
   "source": [
    "y_pred[3]"
   ]
  },
  {
   "cell_type": "code",
   "execution_count": 33,
   "id": "6813e6cb-efc4-4032-bf87-6becf6e2687e",
   "metadata": {},
   "outputs": [
    {
     "data": {
      "text/plain": [
       "('Adventure',)"
      ]
     },
     "execution_count": 33,
     "metadata": {},
     "output_type": "execute_result"
    }
   ],
   "source": [
    "multilabel_binarizer.inverse_transform(y_pred)[3]"
   ]
  },
  {
   "cell_type": "code",
   "execution_count": 34,
   "id": "6407027c-f983-4cbf-9142-a7d4aab720b1",
   "metadata": {},
   "outputs": [
    {
     "data": {
      "text/plain": [
       "0.698619809788912"
      ]
     },
     "execution_count": 34,
     "metadata": {},
     "output_type": "execute_result"
    }
   ],
   "source": [
    "# evaluate performance\n",
    "f1_score(yval, y_pred, average=\"micro\")"
   ]
  },
  {
   "cell_type": "code",
   "execution_count": 35,
   "id": "a1ed0c82-cee8-4594-bbd1-67f3949d0a6f",
   "metadata": {},
   "outputs": [],
   "source": [
    "# predict probabilities\n",
    "y_pred_prob = clf.predict_proba(xval_tfidf)"
   ]
  },
  {
   "cell_type": "code",
   "execution_count": 36,
   "id": "7011e14d-e202-4329-89b0-2a19d17d650f",
   "metadata": {},
   "outputs": [],
   "source": [
    "t = 0.35 # threshold value\n",
    "y_pred_new = (y_pred_prob >= t).astype(int)"
   ]
  },
  {
   "cell_type": "code",
   "execution_count": 37,
   "id": "92a17f1b-ae09-45de-9e7f-bd62bf3f7055",
   "metadata": {},
   "outputs": [
    {
     "data": {
      "text/plain": [
       "0.731617554384815"
      ]
     },
     "execution_count": 37,
     "metadata": {},
     "output_type": "execute_result"
    }
   ],
   "source": [
    "# evaluate performance\n",
    "f1_score(yval, y_pred_new, average=\"micro\")"
   ]
  },
  {
   "cell_type": "code",
   "execution_count": 38,
   "id": "a0ac74b6-9220-422f-b571-28a817e0f654",
   "metadata": {},
   "outputs": [],
   "source": [
    "def infer_tags(q):\n",
    "    q = clean_text(q)\n",
    "    q = remove_stopwords(q)\n",
    "    q_vec = tfidf_vectorizer.transform([q])\n",
    "    q_pred = clf.predict(q_vec)\n",
    "    return multilabel_binarizer.inverse_transform(q_pred)"
   ]
  },
  {
   "cell_type": "code",
   "execution_count": 39,
   "id": "8092f237-08d5-4d0c-85d7-e4d5f60670d7",
   "metadata": {},
   "outputs": [
    {
     "name": "stdout",
     "output_type": "stream",
     "text": [
      "Game:  ばるばろっさ! ～すすめ? 赤軍少女旅団～(全年齢版) \n",
      "Predicted genre:  [()]\n",
      "Actual genre:  ['Indie', 'RPG', 'Strategy'] \n",
      "\n",
      "Game:  The Pit And The Pendulum \n",
      "Predicted genre:  [('Adventure', 'Indie')]\n",
      "Actual genre:  ['Adventure', 'Casual', 'Indie'] \n",
      "\n",
      "Game:  Mind Portal \n",
      "Predicted genre:  [('Adventure', 'Casual', 'Indie')]\n",
      "Actual genre:  ['Adventure', 'Casual', 'Indie'] \n",
      "\n",
      "Game:  Space Pilgrim Academy: Year 1 \n",
      "Predicted genre:  [('Adventure', 'Indie')]\n",
      "Actual genre:  ['Adventure', 'Indie'] \n",
      "\n",
      "Game:  Fantasy Grounds - Taverns & Inns Pack 1 - Living Maps (Map Pack) \n",
      "Predicted genre:  [('Indie', 'RPG', 'Strategy')]\n",
      "Actual genre:  ['Indie', 'RPG', 'Strategy'] \n",
      "\n",
      "Game:  Sid Meier's Pirates! Gold Plus (Classic) \n",
      "Predicted genre:  [('Adventure',)]\n",
      "Actual genre:  ['Adventure', 'Simulation'] \n",
      "\n",
      "Game:  Crystal Quest Classic \n",
      "Predicted genre:  [('Casual', 'Indie')]\n",
      "Actual genre:  ['Action', 'Strategy'] \n",
      "\n",
      "Game:  Rocksmith® 2014 – Crobot - “Nowhere to Hide” \n",
      "Predicted genre:  [('Casual', 'Simulation')]\n",
      "Actual genre:  ['Casual', 'Simulation'] \n",
      "\n",
      "Game:  Contradiction - Spot The Liar! \n",
      "Predicted genre:  [('Adventure',)]\n",
      "Actual genre:  ['Adventure', 'RPG', 'Strategy'] \n",
      "\n",
      "Game:  Caladria Chronicles \n",
      "Predicted genre:  [('Indie',)]\n",
      "Actual genre:  ['Casual', 'Indie'] \n",
      "\n"
     ]
    }
   ],
   "source": [
    "for i in range(10): \n",
    "  k = xval.sample(1).index[0] \n",
    "  print(\"Game: \", df['name'][k], \"\\nPredicted genre: \", infer_tags(xval[k])), print(\"Actual genre: \",df['actual_list_genre'][k], \"\\n\")"
   ]
  },
  {
   "cell_type": "code",
   "execution_count": 40,
   "id": "868952f1-a43c-48ea-89d9-30ce9844f66a",
   "metadata": {},
   "outputs": [],
   "source": [
    "desc = \"Fight your way through an exciting action-adventure game, inspired by classic dungeon crawlers and set in the Minecraft universe! Brave the dungeons alone, or team up with friends! Up to four players can battle together through action-packed, treasure-stuffed, wildly varied levels – all in an epic quest to save the villagers and take down the evil Arch-Illager!\""
   ]
  },
  {
   "cell_type": "code",
   "execution_count": 41,
   "id": "8669e9d1-9120-4c38-a1bf-5c0623a8eae2",
   "metadata": {},
   "outputs": [
    {
     "name": "stdout",
     "output_type": "stream",
     "text": [
      "Game: MineCraft Dungeons \n",
      "Predicted genre:  [('Action', 'Adventure')]\n"
     ]
    }
   ],
   "source": [
    "print(\"Game: MineCraft Dungeons\", \"\\nPredicted genre: \", infer_tags(desc))"
   ]
  },
  {
   "cell_type": "code",
   "execution_count": 49,
   "id": "40ab7c11-6d0d-4987-82d4-5dc8b1ec0d92",
   "metadata": {},
   "outputs": [],
   "source": [
    "import pickle\n",
    "pickle.dump(clf, open('model.pkl', 'wb'))\n",
    "pickle.dump(tfidf_vectorizer, open('tfidf.pkl', 'wb'))\n",
    "pickle.dump(multilabel_binarizer, open('binarizer.pkl', 'wb'))"
   ]
  },
  {
   "cell_type": "code",
   "execution_count": null,
   "id": "08cbe4ce-109b-4395-bd24-c1164a6037e7",
   "metadata": {},
   "outputs": [],
   "source": []
  }
 ],
 "metadata": {
  "kernelspec": {
   "display_name": "Python 3",
   "language": "python",
   "name": "python3"
  },
  "language_info": {
   "codemirror_mode": {
    "name": "ipython",
    "version": 3
   },
   "file_extension": ".py",
   "mimetype": "text/x-python",
   "name": "python",
   "nbconvert_exporter": "python",
   "pygments_lexer": "ipython3",
   "version": "3.8.8"
  }
 },
 "nbformat": 4,
 "nbformat_minor": 5
}
