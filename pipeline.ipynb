{
 "cells": [
  {
   "cell_type": "code",
   "execution_count": 6,
   "id": "d44519da-f6b2-4fed-ae11-6b6c13572b8e",
   "metadata": {},
   "outputs": [],
   "source": [
    "from sklearn.feature_extraction.text import TfidfVectorizer\n",
    "import re\n",
    "from nltk.corpus import stopwords\n",
    "from sklearn.preprocessing import MultiLabelBinarizer\n"
   ]
  },
  {
   "cell_type": "code",
   "execution_count": 12,
   "id": "602aced3-288a-4213-b5a4-96967298bee7",
   "metadata": {},
   "outputs": [],
   "source": [
    "import pickle\n",
    "clf = pickle.load(open('model.pkl', 'rb'))\n",
    "tfidf_vectorizer = pickle.load(open('tfidf.pkl','rb'))\n",
    "binarizer = pickle.load(open('binarizer.pkl','rb'))"
   ]
  },
  {
   "cell_type": "code",
   "execution_count": 13,
   "id": "9095e2d8-a156-42a4-9e64-f331f02a564b",
   "metadata": {},
   "outputs": [],
   "source": [
    "# function for text cleaning \n",
    "def clean_text(text):\n",
    "    # remove backslash-apostrophe \n",
    "    text = re.sub(\"\\'\", \"\", text) \n",
    "    # remove everything except letters\n",
    "    text = re.sub(\"[^a-zA-Z]\",\" \",text) \n",
    "    # remove whitespaces \n",
    "    text = ' '.join(text.split()) \n",
    "    # convert text to lowercase \n",
    "    text = text.lower() \n",
    "    \n",
    "    return text\n",
    "\n",
    "# function to remove stopwords\n",
    "stop_words = set(stopwords.words('english'))\n",
    "stop_words.update(['game','content','play','developed'])\n",
    "\n",
    "\n",
    "def remove_stopwords(text):\n",
    "    no_stopword_text = [w for w in text.split() if not w in stop_words]\n",
    "    return ' '.join(no_stopword_text)\n",
    "\n",
    "def infer_tags(q):\n",
    "    q = clean_text(q)\n",
    "    q = remove_stopwords(q)\n",
    "    q_vec = tfidf_vectorizer.transform([q])\n",
    "    q_pred = clf.predict(q_vec)\n",
    "    return binarizer.inverse_transform(q_pred)"
   ]
  },
  {
   "cell_type": "code",
   "execution_count": 14,
   "id": "e081afaf-cbd9-4eba-94e6-d676f7b715b8",
   "metadata": {},
   "outputs": [],
   "source": [
    "desc = \"Fight your way through an exciting action-adventure game, inspired by classic dungeon crawlers and set in the Minecraft universe! Brave the dungeons alone, or team up with friends! Up to four players can battle together through action-packed, treasure-stuffed, wildly varied levels – all in an epic quest to save the villagers and take down the evil Arch-Illager!\""
   ]
  },
  {
   "cell_type": "code",
   "execution_count": 15,
   "id": "1e3098be-25d6-47a6-8ec0-65c88f31e424",
   "metadata": {},
   "outputs": [
    {
     "name": "stdout",
     "output_type": "stream",
     "text": [
      "Game: MineCraft Dungeons \n",
      "Predicted genre:  [('Action', 'Adventure')]\n"
     ]
    }
   ],
   "source": [
    "print(\"Game: MineCraft Dungeons\", \"\\nPredicted genre: \", infer_tags(desc))"
   ]
  },
  {
   "cell_type": "code",
   "execution_count": null,
   "id": "916a858f-dbe7-4673-b7ad-815707ea4d76",
   "metadata": {},
   "outputs": [],
   "source": []
  }
 ],
 "metadata": {
  "kernelspec": {
   "display_name": "Python 3",
   "language": "python",
   "name": "python3"
  },
  "language_info": {
   "codemirror_mode": {
    "name": "ipython",
    "version": 3
   },
   "file_extension": ".py",
   "mimetype": "text/x-python",
   "name": "python",
   "nbconvert_exporter": "python",
   "pygments_lexer": "ipython3",
   "version": "3.8.8"
  }
 },
 "nbformat": 4,
 "nbformat_minor": 5
}
